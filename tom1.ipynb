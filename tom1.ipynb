{
 "cells": [
  {
   "cell_type": "code",
   "execution_count": 1,
   "id": "a1cdfcc8",
   "metadata": {},
   "outputs": [
    {
     "name": "stdout",
     "output_type": "stream",
     "text": [
      "\n",
      "Please type in the math operation you would like to complete:\n",
      "+ for addition\n",
      "- for subtraction\n",
      "* for multiplication\n",
      "*\n",
      "what is your number133\n",
      "what is number211\n",
      "33 * 11 = \n",
      "363\n"
     ]
    }
   ],
   "source": [
    "import math as m\n",
    "\n",
    "operation = input('''\n",
    "Please type in the math operation you would like to complete:\n",
    "+ for addition\n",
    "- for subtraction\n",
    "* for multiplication\n",
    "''')\n",
    "number_1=int(input(\"what is your number1\"))\n",
    "number_2=int(input(\"what is number2\"))\n",
    "if operation == '+':\n",
    "    print('{} + {} = '.format(number_1, number_2))\n",
    "    print(number_1 + number_2)\n",
    "elif operation == '-':\n",
    "    print('{} - {} = '.format(number_1, number_2))\n",
    "    print(number_1 - number_2)\n",
    "elif operation == '*':\n",
    "     print('{} * {} = '.format(number_1, number_2))\n",
    "print(number_1 * number_2)\n",
    "\n",
    "\n"
   ]
  },
  {
   "cell_type": "code",
   "execution_count": 3,
   "id": "c48720de",
   "metadata": {},
   "outputs": [
    {
     "name": "stdout",
     "output_type": "stream",
     "text": [
      "thank you for using calculator\n"
     ]
    }
   ],
   "source": [
    "print('thank you for using calculator')"
   ]
  },
  {
   "cell_type": "code",
   "execution_count": null,
   "id": "075d97e3",
   "metadata": {},
   "outputs": [],
   "source": []
  }
 ],
 "metadata": {
  "kernelspec": {
   "display_name": "Python 3 (ipykernel)",
   "language": "python",
   "name": "python3"
  },
  "language_info": {
   "codemirror_mode": {
    "name": "ipython",
    "version": 3
   },
   "file_extension": ".py",
   "mimetype": "text/x-python",
   "name": "python",
   "nbconvert_exporter": "python",
   "pygments_lexer": "ipython3",
   "version": "3.9.7"
  }
 },
 "nbformat": 4,
 "nbformat_minor": 5
}
